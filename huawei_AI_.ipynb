{
  "nbformat": 4,
  "nbformat_minor": 0,
  "metadata": {
    "colab": {
      "provenance": [],
      "authorship_tag": "ABX9TyPT+/0DoREtUnIZPON2aPOP",
      "include_colab_link": true
    },
    "kernelspec": {
      "name": "python3",
      "display_name": "Python 3"
    },
    "language_info": {
      "name": "python"
    }
  },
  "cells": [
    {
      "cell_type": "markdown",
      "metadata": {
        "id": "view-in-github",
        "colab_type": "text"
      },
      "source": [
        "<a href=\"https://colab.research.google.com/github/somiahassan/cs50/blob/main/huawei_AI_.ipynb\" target=\"_parent\"><img src=\"https://colab.research.google.com/assets/colab-badge.svg\" alt=\"Open In Colab\"/></a>"
      ]
    },
    {
      "cell_type": "code",
      "execution_count": 1,
      "metadata": {
        "colab": {
          "base_uri": "https://localhost:8080/"
        },
        "id": "1-ren_x6e1iQ",
        "outputId": "10d55c4c-799f-488b-c6f7-7975d069fc2f"
      },
      "outputs": [
        {
          "output_type": "stream",
          "name": "stdout",
          "text": [
            "Largest number: 6\n",
            "List without duplicates: [1, 2, 3, 4, 5, 6]\n",
            "Lists have common member: True\n"
          ]
        }
      ],
      "source": [
        "# Get the largest number from a list\n",
        "def get_largest_number(lst):\n",
        "    return max(lst)\n",
        "\n",
        "# Remove duplicates from a list\n",
        "def remove_duplicates(lst):\n",
        "    return list(set(lst))\n",
        "\n",
        "# Check if two lists have at least one common member\n",
        "def have_common_member(lst1, lst2):\n",
        "    return any(item in lst1 for item in lst2)\n",
        "\n",
        "# Example Usage\n",
        "list1 = [1, 2, 3, 4, 5, 6]\n",
        "list2 = [5, 6, 7, 8]\n",
        "print(\"Largest number:\", get_largest_number(list1))\n",
        "print(\"List without duplicates:\", remove_duplicates(list1))\n",
        "print(\"Lists have common member:\", have_common_member(list1, list2))"
      ]
    },
    {
      "cell_type": "code",
      "source": [
        "# Convert two lists of the same length to a dictionary\n",
        "def lists_to_dict(keys, values):\n",
        "    return dict(zip(keys, values))\n",
        "\n",
        "# Example Usage\n",
        "keys = [\"a\", \"b\", \"c\"]\n",
        "values = [1, 2, 3]\n",
        "print(\"Dictionary:\", lists_to_dict(keys, values))\n"
      ],
      "metadata": {
        "colab": {
          "base_uri": "https://localhost:8080/"
        },
        "id": "rm-gWiz-fha-",
        "outputId": "6fdb6387-ed26-445c-b237-336884a77e68"
      },
      "execution_count": 2,
      "outputs": [
        {
          "output_type": "stream",
          "name": "stdout",
          "text": [
            "Dictionary: {'a': 1, 'b': 2, 'c': 3}\n"
          ]
        }
      ]
    },
    {
      "cell_type": "code",
      "source": [
        "# Check if a number is even or odd\n",
        "num = int(input(\"Enter a number: \"))\n",
        "if num % 2 == 0:\n",
        "    print(\"Even\")\n",
        "else:\n",
        "    print(\"Odd\")\n"
      ],
      "metadata": {
        "colab": {
          "base_uri": "https://localhost:8080/"
        },
        "id": "waBhhGOjfyfz",
        "outputId": "6906b65d-44e2-4453-b3fb-b94a4a5a02be"
      },
      "execution_count": 3,
      "outputs": [
        {
          "output_type": "stream",
          "name": "stdout",
          "text": [
            "Enter a number: 4\n",
            "Even\n"
          ]
        }
      ]
    },
    {
      "cell_type": "code",
      "source": [
        "# Using while loop to print numbers from 1 to 20\n",
        "i = 1\n",
        "while i <= 20:\n",
        "    print(i, end=\" \")\n",
        "    i += 1\n",
        "print()\n",
        "\n",
        "# Using for loop to print numbers from 5 to 1\n",
        "for i in range(5, 0, -1):\n",
        "    print(i, end=\" \")\n",
        "print()\n"
      ],
      "metadata": {
        "colab": {
          "base_uri": "https://localhost:8080/"
        },
        "id": "s7eJaF8Pf8Xv",
        "outputId": "e37a8cf7-310c-488f-f2da-a8fa22f92134"
      },
      "execution_count": 5,
      "outputs": [
        {
          "output_type": "stream",
          "name": "stdout",
          "text": [
            "1 2 3 4 5 6 7 8 9 10 11 12 13 14 15 16 17 18 19 20 \n",
            "5 4 3 2 1 \n"
          ]
        }
      ]
    },
    {
      "cell_type": "code",
      "source": [
        "import math\n",
        "\n",
        "# Function to check if a given diagonal length is valid for a triangle\n",
        "def is_diagonal_valid(a, b, d):\n",
        "    return d == math.sqrt(a**2 + b**2)\n",
        "\n",
        "# Example Usage\n",
        "a = 3\n",
        "b = 4\n",
        "d = 5  # Hypotenuse\n",
        "print(\"Is it a diagonal?\", is_diagonal_valid(a, b, d))\n"
      ],
      "metadata": {
        "colab": {
          "base_uri": "https://localhost:8080/"
        },
        "id": "giT2wsFfgWNZ",
        "outputId": "8fbcdea4-ff97-4111-bf92-d0aa047721b1"
      },
      "execution_count": 6,
      "outputs": [
        {
          "output_type": "stream",
          "name": "stdout",
          "text": [
            "Is it a diagonal? True\n"
          ]
        }
      ]
    },
    {
      "cell_type": "code",
      "source": [
        "from abc import ABC, abstractmethod\n",
        "\n",
        "# Parent class with private variable and abstract method\n",
        "class Parent(ABC):\n",
        "    def __init__(self, value):\n",
        "        self.__private_var = value  # Private variable\n",
        "\n",
        "    @abstractmethod\n",
        "    def display_value(self):\n",
        "        pass\n",
        "\n",
        "# Child class inheriting from Parent\n",
        "class Child(Parent):\n",
        "    def display_value(self):\n",
        "        print(f\"Private Variable Value: {self._Parent__private_var}\")\n",
        "\n",
        "# Example Usage\n",
        "child_obj = Child(42)\n",
        "child_obj.display_value()\n"
      ],
      "metadata": {
        "colab": {
          "base_uri": "https://localhost:8080/"
        },
        "id": "ThrV0myEhoac",
        "outputId": "ca4d0082-c22d-40e5-b3ab-7cf99881b2f2"
      },
      "execution_count": 7,
      "outputs": [
        {
          "output_type": "stream",
          "name": "stdout",
          "text": [
            "Private Variable Value: 42\n"
          ]
        }
      ]
    },
    {
      "cell_type": "code",
      "source": [
        "import numpy as np\n",
        "\n",
        "# 1. Create numpy array of zeroes with size 10\n",
        "array1 = np.zeros(10)\n",
        "print(\"Array of zeros:\", array1)\n",
        "\n",
        "# 2. Create 9x9 numpy array of random numbers\n",
        "array2 = np.random.rand(9, 9)\n",
        "print(\"9x9 Random array:\\n\", array2)\n",
        "\n",
        "# 3. Create three numpy arrays of size 1x3 and build a new numpy array\n",
        "array3 = np.array([[1, 2, 3]])\n",
        "array4 = np.array([[4, 5, 6]])\n",
        "array5 = np.array([[7, 8, 9]])\n",
        "combined_array = np.vstack((array3, array4, array5))  # Stacking arrays vertically\n",
        "print(\"Combined 3x3 array:\\n\", combined_array)\n",
        "\n",
        "# 4. Write all numpy arrays to a single file\n",
        "with open(\"numpy_output.txt\", \"w\") as f:\n",
        "    f.write(f\"Array of zeros:\\n{array1}\\n\\n\")\n",
        "    f.write(f\"9x9 Random array:\\n{array2}\\n\\n\")\n",
        "    f.write(f\"Combined 3x3 array:\\n{combined_array}\\n\\n\")\n",
        "\n",
        "# 5. Add a new element using append and write to the output file\n",
        "array1 = np.append(array1, 100)  # Appending a new element\n",
        "with open(\"numpy_output.txt\", \"a\") as f:\n",
        "    f.write(f\"Updated array of zeros with new element:\\n{array1}\\n\\n\")\n",
        "\n",
        "# 6. Reshape the 9x9 array to 3x27 and write to the output file\n",
        "reshaped_array = array2.reshape(3, 27)\n",
        "with open(\"numpy_output.txt\", \"a\") as f:\n",
        "    f.write(f\"Reshaped 3x27 array:\\n{reshaped_array}\\n\\n\")\n",
        "\n",
        "print(\"All arrays written to numpy_output.txt successfully!\")\n"
      ],
      "metadata": {
        "colab": {
          "base_uri": "https://localhost:8080/"
        },
        "id": "zca0dA11iAU1",
        "outputId": "8085328c-716c-48bd-91a4-f37cbecc3863"
      },
      "execution_count": 8,
      "outputs": [
        {
          "output_type": "stream",
          "name": "stdout",
          "text": [
            "Array of zeros: [0. 0. 0. 0. 0. 0. 0. 0. 0. 0.]\n",
            "9x9 Random array:\n",
            " [[0.00454002 0.61909119 0.23443112 0.91546755 0.61681611 0.33761112\n",
            "  0.37743232 0.95813077 0.33737981]\n",
            " [0.27934154 0.02670734 0.97928608 0.33387506 0.70146073 0.92788263\n",
            "  0.39886543 0.15615076 0.23708299]\n",
            " [0.68231041 0.86580355 0.07741566 0.89647938 0.83048774 0.7638701\n",
            "  0.11914997 0.16796947 0.16542347]\n",
            " [0.56404056 0.64823159 0.29630881 0.67179523 0.98349338 0.15934334\n",
            "  0.13618991 0.80496307 0.98770926]\n",
            " [0.40447543 0.43751571 0.54334737 0.34157527 0.70198025 0.37328799\n",
            "  0.84291779 0.49439078 0.29708663]\n",
            " [0.76983965 0.22861006 0.43931593 0.91934857 0.94130703 0.58298276\n",
            "  0.22997988 0.07974243 0.42867343]\n",
            " [0.85498051 0.20915232 0.63540152 0.65122652 0.32081064 0.2297946\n",
            "  0.96162449 0.33055123 0.81640038]\n",
            " [0.59624929 0.67014529 0.23351088 0.11445757 0.87281358 0.85231002\n",
            "  0.3902958  0.90293563 0.953209  ]\n",
            " [0.66421912 0.30544612 0.6027757  0.2096085  0.21332308 0.58753237\n",
            "  0.01744394 0.01742847 0.22710209]]\n",
            "Combined 3x3 array:\n",
            " [[1 2 3]\n",
            " [4 5 6]\n",
            " [7 8 9]]\n",
            "All arrays written to numpy_output.txt successfully!\n"
          ]
        }
      ]
    }
  ]
}